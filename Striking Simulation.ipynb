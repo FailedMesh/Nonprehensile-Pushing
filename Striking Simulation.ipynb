{
 "cells": [
  {
   "cell_type": "markdown",
   "metadata": {},
   "source": [
    "## Imports:"
   ]
  },
  {
   "cell_type": "code",
   "execution_count": 1,
   "metadata": {},
   "outputs": [],
   "source": [
    "import numpy as np\n",
    "from scipy.optimize import minimize\n",
    "import matplotlib.pyplot as plt\n",
    "\n",
    "from matplotlib.animation import FuncAnimation\n",
    "from random import randint"
   ]
  },
  {
   "cell_type": "markdown",
   "metadata": {},
   "source": [
    "# -----------------------------------------------------------------------------------------------------------------"
   ]
  },
  {
   "cell_type": "markdown",
   "metadata": {},
   "source": [
    "## Environment Parameters:"
   ]
  },
  {
   "cell_type": "code",
   "execution_count": 2,
   "metadata": {},
   "outputs": [],
   "source": [
    "#Time-step\n",
    "del_t = 0.01\n",
    "\n",
    "#Friction coefficient between slider and surface:\n",
    "mu1 = 0.3\n",
    "\n",
    "#Friction coefficient between gripper and slider:\n",
    "mu2 = 0.1\n",
    "\n",
    "#Block dimensions:\n",
    "length = 0.3\n",
    "breadth = 0.1\n",
    "height = 0.1\n",
    "\n",
    "#Mass of block in kg:\n",
    "mass = 0.2\n",
    "\n",
    "#Moment of Inertia (Cuboid here):\n",
    "Iz = (mass * (length**2 + breadth**2)) / 12\n",
    "\n",
    "#Friction:\n",
    "Fr = mu1 * mass * 9.81\n",
    "\n",
    "#Start Point (x, y, theta):\n",
    "start = np.array([0.3, 0.3, 0.0])"
   ]
  },
  {
   "cell_type": "markdown",
   "metadata": {},
   "source": [
    "# -----------------------------------------------------------------------------------------------------------------"
   ]
  },
  {
   "cell_type": "markdown",
   "metadata": {},
   "source": [
    "## Helper Functions: "
   ]
  },
  {
   "cell_type": "code",
   "execution_count": 3,
   "metadata": {},
   "outputs": [],
   "source": [
    "def unpack_params(i, ext_force, contact_points, pos, vel):\n",
    "    \n",
    "    fcx, fcy = ext_force[i, :2]\n",
    "    phi = contact_points[i, 0]\n",
    "\n",
    "    theta = pos[i, 2]\n",
    "    Rbs = np.array([[np.cos(theta), np.sin(theta)],\n",
    "                    [- np.sin(theta), np.cos(theta)]])\n",
    "    \n",
    "    curr_vel = vel[i, :]\n",
    "    \n",
    "    return fcx, fcy, phi, Rbs, curr_vel"
   ]
  },
  {
   "cell_type": "code",
   "execution_count": 4,
   "metadata": {},
   "outputs": [],
   "source": [
    "def unit_vector(v):\n",
    "    \n",
    "    if np.linalg.norm(v) != 0.0:\n",
    "        return v / np.linalg.norm(v)\n",
    "    else:\n",
    "        return v"
   ]
  },
  {
   "cell_type": "code",
   "execution_count": 5,
   "metadata": {},
   "outputs": [],
   "source": [
    "def direction(v):\n",
    "    \n",
    "    if np.abs(v) != 0.0:\n",
    "        return v / np.abs(v)\n",
    "    else:\n",
    "        return 0.0"
   ]
  },
  {
   "cell_type": "markdown",
   "metadata": {},
   "source": [
    "# -----------------------------------------------------------------------------------------------------------------"
   ]
  },
  {
   "cell_type": "markdown",
   "metadata": {},
   "source": [
    "## Define Geometry of slider block w.r.t angle phi"
   ]
  },
  {
   "cell_type": "markdown",
   "metadata": {},
   "source": [
    "#### Geometry function r(phi):"
   ]
  },
  {
   "cell_type": "code",
   "execution_count": 6,
   "metadata": {},
   "outputs": [],
   "source": [
    "def slider_geometry(phi, l, b):\n",
    "    \n",
    "    # phi belongs to [-pi, pi]\n",
    "    \n",
    "    if phi > np.pi:\n",
    "        phi = phi - 2*np.pi\n",
    "    elif phi < -np.pi:\n",
    "        phi = 2*np.pi + phi\n",
    "    \n",
    "    interval1 = - np.arctan(b/l) - 2*np.arctan(l/b)\n",
    "    interval2 = - np.arctan(b/l)\n",
    "    interval3 = np.arctan(b/l)\n",
    "    interval4 = np.arctan(b/l) + 2*np.arctan(l/b)\n",
    "    \n",
    "    if (phi > interval1 and phi < interval2) or (phi > interval3 and phi < interval4):\n",
    "        r = b/(2*np.sin(phi))\n",
    "        \n",
    "    else:\n",
    "        r = l/(2*np.cos(phi))\n",
    "        \n",
    "    return np.abs(r)"
   ]
  },
  {
   "cell_type": "code",
   "execution_count": 7,
   "metadata": {},
   "outputs": [],
   "source": [
    "def get_contact_frame(phi, l, b):\n",
    "    \n",
    "    r = slider_geometry(phi, l, b)\n",
    "    contact = np.array([r*np.cos(phi), r*np.sin(phi)])\n",
    "    contact_unit = unit_vector(contact)\n",
    "    \n",
    "    r_front = slider_geometry(phi + 0.001, l, b)\n",
    "    contact_front = np.array([r_front*np.cos(phi + 0.001), r_front*np.sin(phi + 0.001)])\n",
    "    \n",
    "    r_back = slider_geometry(phi - 0.001, l, b)\n",
    "    contact_back = np.array([r_back*np.cos(phi - 0.001), r_back*np.sin(phi - 0.001)])\n",
    "    \n",
    "    front_dir = unit_vector(contact_front - contact)\n",
    "    back_dir = unit_vector(contact_back - contact)\n",
    "    \n",
    "    front_angle = np.arctan2(front_dir[1], front_dir[0])\n",
    "    back_angle = np.arctan2(back_dir[1], back_dir[0])\n",
    "    \n",
    "    angle_bisect = (back_angle - front_angle) / 2\n",
    "    angle_bisect = angle_bisect + (1 - direction(angle_bisect)) * np.pi / 2\n",
    "    \n",
    "    normal_angle = front_angle + angle_bisect\n",
    "    tangent_angle = normal_angle - np.pi/2\n",
    "    \n",
    "    normal = np.array([np.cos(normal_angle), np.sin(normal_angle)])\n",
    "    tangent = np.array([np.cos(tangent_angle), np.sin(tangent_angle)])\n",
    "    \n",
    "    return normal, tangent\n",
    "    "
   ]
  },
  {
   "cell_type": "markdown",
   "metadata": {},
   "source": [
    "#### Force transformation from contact point to linear force + torque on C.O.M:"
   ]
  },
  {
   "cell_type": "code",
   "execution_count": 8,
   "metadata": {},
   "outputs": [],
   "source": [
    "def transform_forces(fcx, fcy, phi, Rbs, vel, Fr, mu2, l, b):\n",
    "    \n",
    "    r = slider_geometry(phi, l, b)\n",
    "    contact = np.array([r*np.cos(phi), r*np.sin(phi)])\n",
    "    contact_unit = unit_vector(contact)\n",
    "    \n",
    "    force = (Rbs @ (np.array([[fcx, fcy]]).T)).T[0]\n",
    "    force_unit = unit_vector(force)\n",
    "    \n",
    "    contact_angle = np.arctan2(force_unit[1], force_unit[0]) - np.arctan2(contact_unit[1], contact_unit[0])\n",
    "    inverse_phi = np.arctan2(-contact_unit[1], -contact_unit[0])\n",
    "    \n",
    "    Fcom = np.dot(force, -contact_unit)\n",
    "    print(Fcom)\n",
    "    \n",
    "    Fbx = Fcom * np.cos(inverse_phi)\n",
    "    Fby = Fcom * np.sin(inverse_phi)\n",
    "    Frx = Fr * np.cos(inverse_phi)\n",
    "    Fry = Fr * np.sin(inverse_phi)\n",
    "    \n",
    "    F_translational = (Rbs.T @ (np.array([[Fbx, Fby]]).T)).T[0]\n",
    "    F_friction = (Rbs.T @ (np.array([[Frx, Fry]]).T)).T[0]\n",
    "    torque_force = np.linalg.norm(force) * np.sin(contact_angle)\n",
    "    torque_friction = Fr\n",
    "    \n",
    "    F = np.append(F_translational, torque_force)\n",
    "    Friction = np.append(F_friction, torque_friction)\n",
    "    \n",
    "    #Check if force is non-sliding:\n",
    "    \n",
    "    normal, tangent = get_contact_frame(phi, l, b)\n",
    "\n",
    "    Fn = np.dot(normal, force)\n",
    "    Ft = np.dot(tangent, force)\n",
    "\n",
    "    if Fn < 0:\n",
    "        raise Exception(\"Force is not directed towards the block\")\n",
    "    if np.abs(Ft) > mu2 * np.abs(Fn):\n",
    "        raise Exception(\"Force applied will cause sliding against block surface, therefore it is invalid\")\n",
    "    \n",
    "    #Accounting for Friction:\n",
    "    \n",
    "    print(F)\n",
    "    \n",
    "    for i in range(F.size):\n",
    "        \n",
    "        if (vel[i] != 0):\n",
    "            F[i] -= Friction[i] * direction(vel[i])\n",
    "        elif (vel[i] == 0 and abs(F[i]) > Friction[i]):\n",
    "            F[i] -= Friction[i] * direction(F[i])\n",
    "        else:\n",
    "            F[i] = 0.0\n",
    "        \n",
    "    F[2] *= r\n",
    "    \n",
    "    return F"
   ]
  },
  {
   "cell_type": "markdown",
   "metadata": {},
   "source": [
    "##### Testing force transformation:"
   ]
  },
  {
   "cell_type": "code",
   "execution_count": 9,
   "metadata": {
    "scrolled": true
   },
   "outputs": [
    {
     "name": "stdout",
     "output_type": "stream",
     "text": [
      "20.521208599540124\n",
      "[-19.28362829   7.01866671  56.38155725]\n"
     ]
    },
    {
     "data": {
      "text/plain": [
       "array([-18.69502829,   6.43006671,   8.15638469])"
      ]
     },
     "execution_count": 9,
     "metadata": {},
     "output_type": "execute_result"
    }
   ],
   "source": [
    "theta = 0.0 #30 * np.pi / 180\n",
    "Rbs = np.array([[np.cos(theta), np.sin(theta)],\n",
    "                [- np.sin(theta), np.cos(theta)]])\n",
    "\n",
    "test_vel = np.array([0.0, 0.0, 0.0])\n",
    "\n",
    "fcx = 0.0\n",
    "fcy = 60.0\n",
    "phi = -20 * np.pi / 180\n",
    "\n",
    "transform_forces(fcx, fcy, phi, Rbs, test_vel, Fr, mu2, length, breadth)"
   ]
  },
  {
   "cell_type": "markdown",
   "metadata": {},
   "source": [
    "# -----------------------------------------------------------------------------------------------------------------"
   ]
  },
  {
   "cell_type": "markdown",
   "metadata": {},
   "source": [
    "## Physics:"
   ]
  },
  {
   "cell_type": "markdown",
   "metadata": {},
   "source": [
    "#### System State:\n",
    "1) position -> (x, y, theta)\n",
    "2) velocities -> (vx, vy, omega)\n",
    "3) accelerations -> (ax, ay, alpha)\n",
    "4) Tbs -> Transformation from space frame to base frame\n",
    "5) Rbs -> Rotation from space frame to base frame"
   ]
  },
  {
   "cell_type": "code",
   "execution_count": 56,
   "metadata": {},
   "outputs": [],
   "source": [
    "#Total simulation time in seconds:\n",
    "T = 5\n",
    "\n",
    "#Total number of trajectory points:\n",
    "N = int(T/del_t + 1)\n",
    "\n",
    "pos = np.zeros((N, 3))\n",
    "vel = np.zeros((N, 3))\n",
    "acc = np.zeros((N, 3))\n",
    "\n",
    "pos[0, :] = start[:]"
   ]
  },
  {
   "cell_type": "markdown",
   "metadata": {},
   "source": [
    "#### External Parameters:\n",
    "1) force_x\n",
    "2) force_y\n",
    "3) contact_points"
   ]
  },
  {
   "cell_type": "code",
   "execution_count": 57,
   "metadata": {},
   "outputs": [],
   "source": [
    "ext_force = np.zeros((N, 2))\n",
    "#contact_points = np.zeros((N, 1))\n",
    "contact_points = np.ones((N, 1)) * (-np.pi/2)\n",
    "\n",
    "#Initial force:\n",
    "ext_force[0, 0] = 0.0\n",
    "ext_force[0, 1] = 60.0"
   ]
  },
  {
   "cell_type": "markdown",
   "metadata": {},
   "source": [
    "# -----------------------------------------------------------------------------------------------------------------"
   ]
  },
  {
   "cell_type": "markdown",
   "metadata": {},
   "source": [
    "## Generate Simulation Data:"
   ]
  },
  {
   "cell_type": "code",
   "execution_count": 58,
   "metadata": {},
   "outputs": [],
   "source": [
    "fcx, fcy, phi, Rbs, curr_vel = unpack_params(0, ext_force, contact_points, pos, vel)\n",
    "F = transform_forces(fcx, fcy, phi, Rbs, curr_vel, Fr, mu2, length, breadth)\n",
    "\n",
    "acc[0, :2] = F[:2] / mass\n",
    "acc[0, 2] = F[2] / Iz\n",
    "\n",
    "prev_fcx = 1.0\n",
    "prev_fcy = 1.0\n",
    "\n",
    "for i in range(1, N):\n",
    "    \n",
    "    vel[i, :] = vel[i-1, :] + del_t * acc[i-1, :]\n",
    "    pos[i, :] = pos[i-1, :] + del_t * vel[i-1, :]\n",
    "    \n",
    "    fcx, fcy, phi, Rbs, curr_vel = unpack_params(i, ext_force, contact_points, pos, vel)\n",
    "    F = transform_forces(fcx, fcy, phi, Rbs, curr_vel, Fr, mu2, length, breadth)\n",
    "    \n",
    "    acc[i, :2] = F[:2] / mass\n",
    "    acc[i, 2] = F[2] / Iz\n",
    "    \n",
    "    if np.linalg.norm(prev_fcx) == 0 and np.linalg.norm(prev_fcy) == 0 and np.dot(vel[i, :], vel[i-1, :]) < 0:\n",
    "        \n",
    "        vel[i, :] = np.zeros((3, ))\n",
    "        \n",
    "    prev_fcx = fcx\n",
    "    prev_fcy = fcy\n",
    "    "
   ]
  },
  {
   "cell_type": "markdown",
   "metadata": {},
   "source": [
    "## Visualize Simulation:"
   ]
  },
  {
   "cell_type": "code",
   "execution_count": 64,
   "metadata": {},
   "outputs": [
    {
     "data": {
      "image/png": "[encoded data removed]",
      "text/plain": [
       "<Figure size 640x480 with 1 Axes>"
      ]
     },
     "metadata": {},
     "output_type": "display_data"
    }
   ],
   "source": [
    "# create empty lists for the x and y data\n",
    "x = []\n",
    "y = []\n",
    "\n",
    "# create the figure and axes objects\n",
    "fig, ax = plt.subplots()\n",
    "\n",
    "def animate(i):\n",
    "    pt = randint(1,9) # grab a random integer to be the next y-value in the animation\n",
    "    x.append(i)\n",
    "    y.append(pt)\n",
    "\n",
    "    ax.clear()\n",
    "    ax.plot(x, y)\n",
    "    ax.set_xlim([0,20])\n",
    "    ax.set_ylim([0,10])\n",
    "    \n",
    "# run the animation\n",
    "ani = FuncAnimation(fig, animate, frames=20, interval=500, repeat=False)\n",
    "\n",
    "plt.show()"
   ]
  },
  {
   "cell_type": "code",
   "execution_count": 59,
   "metadata": {},
   "outputs": [
    {
     "data": {
      "text/plain": [
       "[<matplotlib.lines.Line2D at 0x1bea1cfd9d0>]"
      ]
     },
     "execution_count": 59,
     "metadata": {},
     "output_type": "execute_result"
    },
    {
     "data": {
      "image/png": "[encoded data removed]",
      "text/plain": [
       "<Figure size 640x480 with 1 Axes>"
      ]
     },
     "metadata": {},
     "output_type": "display_data"
    }
   ],
   "source": [
    "plt.plot(pos[:, 0], pos[:, 1])"
   ]
  },
  {
   "cell_type": "code",
   "execution_count": 60,
   "metadata": {},
   "outputs": [
    {
     "data": {
      "text/plain": [
       "[<matplotlib.lines.Line2D at 0x1bea1e0e310>]"
      ]
     },
     "execution_count": 60,
     "metadata": {},
     "output_type": "execute_result"
    },
    {
     "data": {
      "image/png": "[encoded data removed]",
      "text/plain": [
       "<Figure size 640x480 with 1 Axes>"
      ]
     },
     "metadata": {},
     "output_type": "display_data"
    }
   ],
   "source": [
    "plt.plot(vel[1:, 1])"
   ]
  },
  {
   "cell_type": "code",
   "execution_count": 61,
   "metadata": {},
   "outputs": [
    {
     "data": {
      "text/plain": [
       "array([0.     , 2.97057, 2.94114, 2.91171, 2.88228, 2.85285, 2.82342,\n",
       "       2.79399, 2.76456, 2.73513, 2.7057 , 2.67627, 2.64684, 2.61741,\n",
       "       2.58798, 2.55855, 2.52912, 2.49969, 2.47026, 2.44083, 2.4114 ,\n",
       "       2.38197, 2.35254, 2.32311, 2.29368, 2.26425, 2.23482, 2.20539,\n",
       "       2.17596, 2.14653, 2.1171 , 2.08767, 2.05824, 2.02881, 1.99938,\n",
       "       1.96995, 1.94052, 1.91109, 1.88166, 1.85223, 1.8228 , 1.79337,\n",
       "       1.76394, 1.73451, 1.70508, 1.67565, 1.64622, 1.61679, 1.58736,\n",
       "       1.55793, 1.5285 , 1.49907, 1.46964, 1.44021, 1.41078, 1.38135,\n",
       "       1.35192, 1.32249, 1.29306, 1.26363, 1.2342 , 1.20477, 1.17534,\n",
       "       1.14591, 1.11648, 1.08705, 1.05762, 1.02819, 0.99876, 0.96933,\n",
       "       0.9399 , 0.91047, 0.88104, 0.85161, 0.82218, 0.79275, 0.76332,\n",
       "       0.73389, 0.70446, 0.67503, 0.6456 , 0.61617, 0.58674, 0.55731,\n",
       "       0.52788, 0.49845, 0.46902, 0.43959, 0.41016, 0.38073, 0.3513 ,\n",
       "       0.32187, 0.29244, 0.26301, 0.23358, 0.20415, 0.17472, 0.14529,\n",
       "       0.11586, 0.08643, 0.057  , 0.02757, 0.     , 0.02943, 0.     ,\n",
       "       0.     , 0.     , 0.     , 0.     , 0.     , 0.     , 0.     ,\n",
       "       0.     , 0.     , 0.     , 0.     , 0.     , 0.     , 0.     ,\n",
       "       0.     , 0.     , 0.     , 0.     , 0.     , 0.     , 0.     ,\n",
       "       0.     , 0.     , 0.     , 0.     , 0.     , 0.     , 0.     ,\n",
       "       0.     , 0.     , 0.     , 0.     , 0.     , 0.     , 0.     ,\n",
       "       0.     , 0.     , 0.     , 0.     , 0.     , 0.     , 0.     ,\n",
       "       0.     , 0.     , 0.     , 0.     , 0.     , 0.     , 0.     ,\n",
       "       0.     , 0.     , 0.     , 0.     , 0.     , 0.     , 0.     ,\n",
       "       0.     , 0.     , 0.     , 0.     , 0.     , 0.     , 0.     ,\n",
       "       0.     , 0.     , 0.     , 0.     , 0.     , 0.     , 0.     ,\n",
       "       0.     , 0.     , 0.     , 0.     , 0.     , 0.     , 0.     ,\n",
       "       0.     , 0.     , 0.     , 0.     , 0.     , 0.     , 0.     ,\n",
       "       0.     , 0.     , 0.     , 0.     , 0.     , 0.     , 0.     ,\n",
       "       0.     , 0.     , 0.     , 0.     , 0.     , 0.     , 0.     ,\n",
       "       0.     , 0.     , 0.     , 0.     , 0.     , 0.     , 0.     ,\n",
       "       0.     , 0.     , 0.     , 0.     , 0.     , 0.     , 0.     ,\n",
       "       0.     , 0.     , 0.     , 0.     , 0.     , 0.     , 0.     ,\n",
       "       0.     , 0.     , 0.     , 0.     , 0.     , 0.     , 0.     ,\n",
       "       0.     , 0.     , 0.     , 0.     , 0.     , 0.     , 0.     ,\n",
       "       0.     , 0.     , 0.     , 0.     , 0.     , 0.     , 0.     ,\n",
       "       0.     , 0.     , 0.     , 0.     , 0.     , 0.     , 0.     ,\n",
       "       0.     , 0.     , 0.     , 0.     , 0.     , 0.     , 0.     ,\n",
       "       0.     , 0.     , 0.     , 0.     , 0.     , 0.     , 0.     ,\n",
       "       0.     , 0.     , 0.     , 0.     , 0.     , 0.     , 0.     ,\n",
       "       0.     , 0.     , 0.     , 0.     , 0.     , 0.     , 0.     ,\n",
       "       0.     , 0.     , 0.     , 0.     , 0.     , 0.     , 0.     ,\n",
       "       0.     , 0.     , 0.     , 0.     , 0.     , 0.     , 0.     ,\n",
       "       0.     , 0.     , 0.     , 0.     , 0.     , 0.     , 0.     ,\n",
       "       0.     , 0.     , 0.     , 0.     , 0.     , 0.     , 0.     ,\n",
       "       0.     , 0.     , 0.     , 0.     , 0.     , 0.     , 0.     ,\n",
       "       0.     , 0.     , 0.     , 0.     , 0.     , 0.     , 0.     ,\n",
       "       0.     , 0.     , 0.     , 0.     , 0.     , 0.     , 0.     ,\n",
       "       0.     , 0.     , 0.     , 0.     , 0.     , 0.     , 0.     ,\n",
       "       0.     , 0.     , 0.     , 0.     , 0.     , 0.     , 0.     ,\n",
       "       0.     , 0.     , 0.     , 0.     , 0.     , 0.     , 0.     ,\n",
       "       0.     , 0.     , 0.     , 0.     , 0.     , 0.     , 0.     ,\n",
       "       0.     , 0.     , 0.     , 0.     , 0.     , 0.     , 0.     ,\n",
       "       0.     , 0.     , 0.     , 0.     , 0.     , 0.     , 0.     ,\n",
       "       0.     , 0.     , 0.     , 0.     , 0.     , 0.     , 0.     ,\n",
       "       0.     , 0.     , 0.     , 0.     , 0.     , 0.     , 0.     ,\n",
       "       0.     , 0.     , 0.     , 0.     , 0.     , 0.     , 0.     ,\n",
       "       0.     , 0.     , 0.     , 0.     , 0.     , 0.     , 0.     ,\n",
       "       0.     , 0.     , 0.     , 0.     , 0.     , 0.     , 0.     ,\n",
       "       0.     , 0.     , 0.     , 0.     , 0.     , 0.     , 0.     ,\n",
       "       0.     , 0.     , 0.     , 0.     , 0.     , 0.     , 0.     ,\n",
       "       0.     , 0.     , 0.     , 0.     , 0.     , 0.     , 0.     ,\n",
       "       0.     , 0.     , 0.     , 0.     , 0.     , 0.     , 0.     ,\n",
       "       0.     , 0.     , 0.     , 0.     , 0.     , 0.     , 0.     ,\n",
       "       0.     , 0.     , 0.     , 0.     , 0.     , 0.     , 0.     ,\n",
       "       0.     , 0.     , 0.     , 0.     , 0.     , 0.     , 0.     ,\n",
       "       0.     , 0.     , 0.     , 0.     , 0.     , 0.     , 0.     ,\n",
       "       0.     , 0.     , 0.     , 0.     , 0.     , 0.     , 0.     ,\n",
       "       0.     , 0.     , 0.     , 0.     , 0.     , 0.     , 0.     ,\n",
       "       0.     , 0.     , 0.     , 0.     , 0.     , 0.     , 0.     ,\n",
       "       0.     , 0.     , 0.     , 0.     , 0.     , 0.     , 0.     ,\n",
       "       0.     , 0.     , 0.     , 0.     , 0.     , 0.     , 0.     ,\n",
       "       0.     , 0.     , 0.     , 0.     ])"
      ]
     },
     "execution_count": 61,
     "metadata": {},
     "output_type": "execute_result"
    }
   ],
   "source": [
    "vel[:, 1] "
   ]
  },
  {
   "cell_type": "code",
   "execution_count": 41,
   "metadata": {},
   "outputs": [
    {
     "data": {
      "text/plain": [
       "[<matplotlib.lines.Line2D at 0x1bea0a75f70>]"
      ]
     },
     "execution_count": 41,
     "metadata": {},
     "output_type": "execute_result"
    },
    {
     "data": {
      "image/png": "[encoded data removed]",
      "text/plain": [
       "<Figure size 640x480 with 1 Axes>"
      ]
     },
     "metadata": {},
     "output_type": "display_data"
    }
   ],
   "source": [
    "plt.plot(acc[:, 1])"
   ]
  },
  {
   "cell_type": "code",
   "execution_count": 181,
   "metadata": {},
   "outputs": [
    {
     "data": {
      "text/plain": [
       "[<matplotlib.lines.Line2D at 0x1fe68140ac0>]"
      ]
     },
     "execution_count": 181,
     "metadata": {},
     "output_type": "execute_result"
    },
    {
     "data": {
      "image/png": "[encoded data removed]",
      "text/plain": [
       "<Figure size 640x480 with 1 Axes>"
      ]
     },
     "metadata": {},
     "output_type": "display_data"
    }
   ],
   "source": [
    "plt.plot(ext_force[:, 0])"
   ]
  },
  {
   "cell_type": "code",
   "execution_count": 189,
   "metadata": {},
   "outputs": [
    {
     "data": {
      "text/plain": [
       "array([ 2.057, -2.943,  2.943, -2.943,  2.943, -2.943,  2.943, -2.943,\n",
       "        2.943, -2.943,  2.943, -2.943,  2.943, -2.943,  2.943, -2.943,\n",
       "        2.943, -2.943,  2.943, -2.943,  2.943, -2.943,  2.943, -2.943,\n",
       "        2.943, -2.943,  2.943, -2.943,  2.943, -2.943,  2.943, -2.943,\n",
       "        2.943, -2.943,  2.943, -2.943,  2.943, -2.943,  2.943, -2.943,\n",
       "        2.943, -2.943,  2.943, -2.943,  2.943, -2.943,  2.943, -2.943,\n",
       "        2.943, -2.943,  2.943, -2.943,  2.943, -2.943,  2.943, -2.943,\n",
       "        2.943, -2.943,  2.943, -2.943,  2.943, -2.943,  2.943, -2.943,\n",
       "        2.943, -2.943,  2.943, -2.943,  2.943, -2.943,  2.943, -2.943,\n",
       "        2.943, -2.943,  2.943, -2.943,  2.943, -2.943,  2.943, -2.943,\n",
       "        2.943, -2.943,  2.943, -2.943,  2.943, -2.943,  2.943, -2.943,\n",
       "        2.943, -2.943,  2.943, -2.943,  2.943, -2.943,  2.943, -2.943,\n",
       "        2.943, -2.943,  2.943, -2.943,  2.943, -2.943,  2.943, -2.943,\n",
       "        2.943, -2.943,  2.943, -2.943,  2.943, -2.943,  2.943, -2.943,\n",
       "        2.943, -2.943,  2.943, -2.943,  2.943, -2.943,  2.943, -2.943,\n",
       "        2.943, -2.943,  2.943, -2.943,  2.943, -2.943,  2.943, -2.943,\n",
       "        2.943, -2.943,  2.943, -2.943,  2.943, -2.943,  2.943, -2.943,\n",
       "        2.943, -2.943,  2.943, -2.943,  2.943, -2.943,  2.943, -2.943,\n",
       "        2.943, -2.943,  2.943, -2.943,  2.943, -2.943,  2.943, -2.943,\n",
       "        2.943, -2.943,  2.943, -2.943,  2.943, -2.943,  2.943, -2.943,\n",
       "        2.943, -2.943,  2.943, -2.943,  2.943, -2.943,  2.943, -2.943,\n",
       "        2.943, -2.943,  2.943, -2.943,  2.943, -2.943,  2.943, -2.943,\n",
       "        2.943, -2.943,  2.943, -2.943,  2.943, -2.943,  2.943, -2.943,\n",
       "        2.943, -2.943,  2.943, -2.943,  2.943, -2.943,  2.943, -2.943,\n",
       "        2.943, -2.943,  2.943, -2.943,  2.943, -2.943,  2.943, -2.943,\n",
       "        2.943, -2.943,  2.943, -2.943,  2.943, -2.943,  2.943, -2.943,\n",
       "        2.943, -2.943,  2.943, -2.943,  2.943, -2.943,  2.943, -2.943,\n",
       "        2.943, -2.943,  2.943, -2.943,  2.943, -2.943,  2.943, -2.943,\n",
       "        2.943, -2.943,  2.943, -2.943,  2.943, -2.943,  2.943, -2.943,\n",
       "        2.943, -2.943,  2.943, -2.943,  2.943, -2.943,  2.943, -2.943,\n",
       "        2.943, -2.943,  2.943, -2.943,  2.943, -2.943,  2.943, -2.943,\n",
       "        2.943, -2.943,  2.943, -2.943,  2.943, -2.943,  2.943, -2.943,\n",
       "        2.943, -2.943,  2.943, -2.943,  2.943, -2.943,  2.943, -2.943,\n",
       "        2.943, -2.943,  2.943, -2.943,  2.943, -2.943,  2.943, -2.943,\n",
       "        2.943, -2.943,  2.943, -2.943,  2.943, -2.943,  2.943, -2.943,\n",
       "        2.943, -2.943,  2.943, -2.943,  2.943, -2.943,  2.943, -2.943,\n",
       "        2.943, -2.943,  2.943, -2.943,  2.943, -2.943,  2.943, -2.943,\n",
       "        2.943, -2.943,  2.943, -2.943,  2.943, -2.943,  2.943, -2.943,\n",
       "        2.943, -2.943,  2.943, -2.943,  2.943, -2.943,  2.943, -2.943,\n",
       "        2.943, -2.943,  2.943, -2.943,  2.943, -2.943,  2.943, -2.943,\n",
       "        2.943, -2.943,  2.943, -2.943,  2.943, -2.943,  2.943, -2.943,\n",
       "        2.943, -2.943,  2.943, -2.943,  2.943, -2.943,  2.943, -2.943,\n",
       "        2.943, -2.943,  2.943, -2.943,  2.943, -2.943,  2.943, -2.943,\n",
       "        2.943, -2.943,  2.943, -2.943,  2.943, -2.943,  2.943, -2.943,\n",
       "        2.943, -2.943,  2.943, -2.943,  2.943, -2.943,  2.943, -2.943,\n",
       "        2.943, -2.943,  2.943, -2.943,  2.943, -2.943,  2.943, -2.943,\n",
       "        2.943, -2.943,  2.943, -2.943,  2.943, -2.943,  2.943, -2.943,\n",
       "        2.943, -2.943,  2.943, -2.943,  2.943, -2.943,  2.943, -2.943,\n",
       "        2.943, -2.943,  2.943, -2.943,  2.943, -2.943,  2.943, -2.943,\n",
       "        2.943, -2.943,  2.943, -2.943,  2.943, -2.943,  2.943, -2.943,\n",
       "        2.943, -2.943,  2.943, -2.943,  2.943, -2.943,  2.943, -2.943,\n",
       "        2.943, -2.943,  2.943, -2.943,  2.943, -2.943,  2.943, -2.943,\n",
       "        2.943, -2.943,  2.943, -2.943,  2.943, -2.943,  2.943, -2.943,\n",
       "        2.943, -2.943,  2.943, -2.943,  2.943, -2.943,  2.943, -2.943,\n",
       "        2.943, -2.943,  2.943, -2.943,  2.943, -2.943,  2.943, -2.943,\n",
       "        2.943, -2.943,  2.943, -2.943,  2.943, -2.943,  2.943, -2.943,\n",
       "        2.943, -2.943,  2.943, -2.943,  2.943, -2.943,  2.943, -2.943,\n",
       "        2.943, -2.943,  2.943, -2.943,  2.943, -2.943,  2.943, -2.943,\n",
       "        2.943, -2.943,  2.943, -2.943,  2.943, -2.943,  2.943, -2.943,\n",
       "        2.943, -2.943,  2.943, -2.943,  2.943, -2.943,  2.943, -2.943,\n",
       "        2.943, -2.943,  2.943, -2.943,  2.943, -2.943,  2.943, -2.943,\n",
       "        2.943, -2.943,  2.943, -2.943,  2.943, -2.943,  2.943, -2.943,\n",
       "        2.943, -2.943,  2.943, -2.943,  2.943])"
      ]
     },
     "execution_count": 189,
     "metadata": {},
     "output_type": "execute_result"
    }
   ],
   "source": [
    "acc[:, 0]"
   ]
  },
  {
   "cell_type": "code",
   "execution_count": null,
   "metadata": {},
   "outputs": [],
   "source": [
    "## Introduce a RTF calculation and display system using the time library\n"
   ]
  }
 ],
 "metadata": {
  "kernelspec": {
   "display_name": "RRC_RL_Grasping",
   "language": "python",
   "name": "rrc_rl_grasping"
  },
  "language_info": {
   "codemirror_mode": {
    "name": "ipython",
    "version": 3
   },
   "file_extension": ".py",
   "mimetype": "text/x-python",
   "name": "python",
   "nbconvert_exporter": "python",
   "pygments_lexer": "ipython3",
   "version": "3.8.16"
  },
  "vscode": {
   "interpreter": {
    "hash": "8654fed7540277ddf6b9b5ab1dc4e73f02ee108c349421d9d519d216622133b6"
   }
  }
 },
 "nbformat": 4,
 "nbformat_minor": 2
}
