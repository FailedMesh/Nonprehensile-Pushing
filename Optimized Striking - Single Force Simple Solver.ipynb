{
 "cells": [
  {
   "cell_type": "code",
   "execution_count": 1,
   "id": "7299752c",
   "metadata": {},
   "outputs": [],
   "source": [
    "import numpy as np\n",
    "import matplotlib.pyplot as plt\n",
    "from IPython.display import clear_output\n",
    "\n",
    "from force_model_functions import slider_geometry"
   ]
  },
  {
   "cell_type": "markdown",
   "id": "8e62e908",
   "metadata": {},
   "source": [
    "## Problem Definition:"
   ]
  },
  {
   "cell_type": "code",
   "execution_count": 2,
   "id": "95ffe864",
   "metadata": {},
   "outputs": [],
   "source": [
    "# ------- User Defined ------------ #\n",
    "start = np.array([0.3, 0.3, 0.0])\n",
    "goal = np.array([1.0, 1.0, 0.0])\n",
    "T = 5\n",
    "del_t = 0.01\n",
    "mu1 = 0.3\n",
    "mass = 0.2\n",
    "length = 0.3\n",
    "breadth = 0.1\n",
    "# --------------------------------- #\n",
    "\n",
    "N = int(T/del_t + 1)\n",
    "\n",
    "Iz = (mass * (length**2 + breadth**2)) / 12\n",
    "\n",
    "area = length*breadth\n",
    "avg_radius = np.sqrt(area/np.pi)\n",
    "\n",
    "Fr = mu1 * mass * 9.81\n",
    "\n",
    "inertia_vec = np.array([mass, mass, Iz/avg_radius])"
   ]
  },
  {
   "cell_type": "markdown",
   "id": "54ce0189",
   "metadata": {},
   "source": [
    "## Initialize States:"
   ]
  },
  {
   "cell_type": "code",
   "execution_count": 4,
   "id": "76a1421f",
   "metadata": {},
   "outputs": [
    {
     "name": "stdout",
     "output_type": "stream",
     "text": [
      "45.0\n",
      "-0.4162030514064019 -0.4162030514064019\n",
      "[[ 0.          0.          0.        ]\n",
      " [-2.08101526 -2.08101526  0.        ]\n",
      " [-2.08101526 -2.08101526  0.        ]\n",
      " ...\n",
      " [-2.08101526 -2.08101526  0.        ]\n",
      " [-2.08101526 -2.08101526  0.        ]\n",
      " [ 0.          0.          0.        ]]\n"
     ]
    }
   ],
   "source": [
    "pos = np.zeros((N, 3))\n",
    "vel = np.zeros((N, 3))\n",
    "acc = np.zeros((N, 3))\n",
    "\n",
    "pos[0, :] = start.copy()\n",
    "pos[-1, :] = goal.copy()\n",
    "\n",
    "traj_angle = np.arctan2((goal[1] - start[1]), (goal[0] - start[0]))\n",
    "print(traj_angle * 180/np.pi)\n",
    "\n",
    "Frx = -Fr * np.cos(traj_angle)\n",
    "Fry = -Fr * np.sin(traj_angle)\n",
    "Ft = 0.\n",
    "\n",
    "print(Frx, Fry)\n",
    "\n",
    "fric_acc = np.array([Frx/mass, Fry/mass, Ft/Iz])\n",
    "\n",
    "acc[1:-1, 0] = (Frx/inertia_vec[0])\n",
    "acc[1:-1, 1] = (Fry/inertia_vec[1])\n",
    "\n",
    "print(acc)"
   ]
  },
  {
   "cell_type": "markdown",
   "id": "b98ee712",
   "metadata": {},
   "source": [
    "## Solve for Single Force:"
   ]
  },
  {
   "cell_type": "code",
   "execution_count": 55,
   "id": "a48f69b9",
   "metadata": {},
   "outputs": [],
   "source": [
    "def solve(start, goal, acc, del_t):\n",
    "    \n",
    "    dist = np.sqrt((start[0] - goal[0])**2 + (start[1] - goal[1])**2)\n",
    "    dist_x = (goal[0] - start[0])\n",
    "    dist_y = (goal[1] - start[1])\n",
    "    sum_vel_x = dist_x/del_t\n",
    "    sum_vel_y = dist_y/del_t\n",
    "    \n",
    "    print(sum_vel_x)\n",
    "    \n",
    "    vel = np.zeros((0, 3))\n",
    "    \n",
    "    go = True\n",
    "    next_vel_x = 0.\n",
    "    next_vel_y = 0.\n",
    "    i = 0\n",
    "    \n",
    "    while go:\n",
    "        \n",
    "        clear_output(wait=True)\n",
    "        \n",
    "        i += 1\n",
    "    \n",
    "        vel_x = next_vel_x - del_t * acc[0]\n",
    "        vel_y = next_vel_y - del_t * acc[1]\n",
    "        \n",
    "        vel = np.concatenate((vel, [[next_vel_x, next_vel_y, 0.]]))\n",
    "        \n",
    "        if np.abs(vel_x) >= np.abs(sum_vel_x):\n",
    "            go = False\n",
    "            v1_x = sum_vel_x\n",
    "            acc0_x = v1_x/del_t\n",
    "            \n",
    "        if np.abs(vel_y) >= np.abs(sum_vel_y):\n",
    "            go = False\n",
    "            v1_y = sum_vel_y\n",
    "            acc0_y = v1_y/del_t\n",
    "            \n",
    "        sum_vel_x -= vel_x\n",
    "        sum_vel_y -= vel_y\n",
    "        \n",
    "        next_vel_x = vel_x\n",
    "        next_vel_y = vel_y\n",
    "        \n",
    "    acc0_x = acc0_x - acc[0]\n",
    "    acc0_y = acc0_y - acc[1]\n",
    "        \n",
    "    return acc0_x, acc0_y"
   ]
  },
  {
   "cell_type": "code",
   "execution_count": 57,
   "id": "a4d497ef",
   "metadata": {},
   "outputs": [
    {
     "name": "stdout",
     "output_type": "stream",
     "text": [
      "[[91.02934665 91.02934665  0.        ]\n",
      " [-2.08101526 -2.08101526  0.        ]\n",
      " [-2.08101526 -2.08101526  0.        ]\n",
      " ...\n",
      " [-2.08101526 -2.08101526  0.        ]\n",
      " [-2.08101526 -2.08101526  0.        ]\n",
      " [ 0.          0.          0.        ]]\n",
      "[[18.20586933 18.20586933  0.        ]\n",
      " [-0.41620305 -0.41620305  0.        ]\n",
      " [-0.41620305 -0.41620305  0.        ]\n",
      " ...\n",
      " [-0.41620305 -0.41620305  0.        ]\n",
      " [-0.41620305 -0.41620305  0.        ]\n",
      " [ 0.          0.          0.        ]]\n"
     ]
    }
   ],
   "source": [
    "acc[0, 0], acc[0, 1] = solve(start, goal, fric_acc, del_t)\n",
    "force = acc * mass\n",
    "print(acc)\n",
    "print(force)"
   ]
  },
  {
   "cell_type": "code",
   "execution_count": 8,
   "id": "d70ac74f",
   "metadata": {},
   "outputs": [
    {
     "data": {
      "text/plain": [
       "2596.0665331474183"
      ]
     },
     "execution_count": 8,
     "metadata": {},
     "output_type": "execute_result"
    }
   ],
   "source": [
    "np.sum(vel[:, 0])"
   ]
  },
  {
   "cell_type": "code",
   "execution_count": 42,
   "id": "4ade22ca",
   "metadata": {},
   "outputs": [
    {
     "data": {
      "text/plain": [
       "[<matplotlib.lines.Line2D at 0x262034b0310>]"
      ]
     },
     "execution_count": 42,
     "metadata": {},
     "output_type": "execute_result"
    },
    {
     "data": {
      "image/png": "[encoded data removed]",
      "text/plain": [
       "<Figure size 640x480 with 1 Axes>"
      ]
     },
     "metadata": {},
     "output_type": "display_data"
    }
   ],
   "source": [
    "plt.plot(vel[:, 1])"
   ]
  }
 ],
 "metadata": {
  "kernelspec": {
   "display_name": "RRC_RL_Grasping",
   "language": "python",
   "name": "rrc_rl_grasping"
  },
  "language_info": {
   "codemirror_mode": {
    "name": "ipython",
    "version": 3
   },
   "file_extension": ".py",
   "mimetype": "text/x-python",
   "name": "python",
   "nbconvert_exporter": "python",
   "pygments_lexer": "ipython3",
   "version": "3.8.16"
  }
 },
 "nbformat": 4,
 "nbformat_minor": 5
}
